{
 "cells": [
  {
   "cell_type": "code",
   "execution_count": 5,
   "metadata": {},
   "outputs": [],
   "source": [
    "import cv2\n",
    "import numpy as np\n",
    "\n",
    "###########################\n",
    "########Function###########\n",
    "###########################\n",
    "\n",
    "def draw_circle(event,x,y,flags,param):\n",
    "    if event == cv2.EVENT_LBUTTONDOWN:\n",
    "        cv2.circle(img,(x,y),100,(0,255,0),-1)\n",
    "\n",
    "\n",
    "cv2.namedWindow(winname='mydrawing')\n",
    "cv2.setMouseCallback('mydrawing',draw_circle)\n",
    "\n",
    "\n",
    "\n",
    "##########################\n",
    "##show image with open cv#\n",
    "##########################\n",
    "\n",
    "img = np.zeros((512,512,3,))\n",
    "\n",
    "while True:\n",
    "        cv2.imshow('mydrawing',img)\n",
    "        if cv2.waitKey(20) & 0xFF == 27:\n",
    "            break\n",
    "            \n",
    "cv2.destroyAllWindows()"
   ]
  },
  {
   "cell_type": "code",
   "execution_count": null,
   "metadata": {},
   "outputs": [],
   "source": []
  }
 ],
 "metadata": {
  "kernelspec": {
   "display_name": "Python 3",
   "language": "python",
   "name": "python3"
  },
  "language_info": {
   "codemirror_mode": {
    "name": "ipython",
    "version": 3
   },
   "file_extension": ".py",
   "mimetype": "text/x-python",
   "name": "python",
   "nbconvert_exporter": "python",
   "pygments_lexer": "ipython3",
   "version": "3.6.6"
  }
 },
 "nbformat": 4,
 "nbformat_minor": 2
}
